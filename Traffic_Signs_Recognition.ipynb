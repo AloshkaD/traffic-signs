{
 "cells": [
  {
   "cell_type": "markdown",
   "metadata": {},
   "source": [
    "# Self-Driving Car Engineer Nanodegree\n",
    "\n",
    "## Deep Learning\n",
    "\n",
    "## Project: Build a Traffic Sign Recognition Classifier\n",
    "\n",
    "In this notebook, a template is provided for you to implement your functionality in stages which is required to successfully complete this project. If additional code is required that cannot be included in the notebook, be sure that the Python code is successfully imported and included in your submission, if necessary. Sections that begin with **'Implementation'** in the header indicate where you should begin your implementation for your project. Note that some sections of implementation are optional, and will be marked with **'Optional'** in the header.\n",
    "\n",
    "In addition to implementing code, there will be questions that you must answer which relate to the project and your implementation. Each section where you will answer a question is preceded by a **'Question'** header. Carefully read each question and provide thorough answers in the following text boxes that begin with **'Answer:'**. Your project submission will be evaluated based on your answers to each of the questions and the implementation you provide.\n",
    "\n",
    ">**Note:** Code and Markdown cells can be executed using the **Shift + Enter** keyboard shortcut. In addition, Markdown cells can be edited by typically double-clicking the cell to enter edit mode."
   ]
  },
  {
   "cell_type": "markdown",
   "metadata": {},
   "source": [
    "---\n",
    "\n",
    "## Step 1: Dataset Exploration\n",
    "\n",
    "Visualize the German Traffic Signs Dataset. This is open ended, some suggestions include: plotting traffic signs images, plotting the count of each sign, etc. Be creative!\n",
    "\n",
    "\n",
    "The pickled data is a dictionary with 4 key/value pairs:\n",
    "\n",
    "- features -> the images pixel values, (width, height, channels)\n",
    "- labels -> the label of the traffic sign\n",
    "- sizes -> the original width and height of the image, (width, height)\n",
    "- coords -> coordinates of a bounding box around the sign in the image, (x1, y1, x2, y2). Based the original image (not the resized version)."
   ]
  },
  {
   "cell_type": "code",
   "execution_count": null,
   "metadata": {
    "collapsed": false
   },
   "outputs": [],
   "source": [
    "# Load pickled data\n",
    "import pickle\n",
    "\n",
    "# TODO: fill this in based on where you saved the training and testing data\n",
    "training_file = '/home/hkorre/Documents/proj2/lab2_data/train.p'\n",
    "testing_file  = '/home/hkorre/Documents/proj2/lab2_data/test.p'\n",
    "\n",
    "with open(training_file, mode='rb') as f:\n",
    "    train = pickle.load(f)\n",
    "with open(testing_file, mode='rb') as f:\n",
    "    test = pickle.load(f)\n",
    "    \n",
    "X_train, y_train = train['features'], train['labels']\n",
    "X_test, y_test = test['features'], test['labels']"
   ]
  },
  {
   "cell_type": "code",
   "execution_count": null,
   "metadata": {
    "collapsed": false
   },
   "outputs": [],
   "source": [
    "### To start off let's do a basic data summary.\n",
    "\n",
    "# TODO: number of training examples\n",
    "n_train = X_train.shape[0]\n",
    "\n",
    "# TODO: number of testing examples\n",
    "n_test = X_test.shape[0]\n",
    "\n",
    "# TODO: what's the shape of an image?\n",
    "image_shape = (X_train.shape[1], X_train.shape[2])\n",
    "\n",
    "# TODO: how many classes are in the dataset\n",
    "n_classes = len(set(y_train))\n",
    "\n",
    "print(\"Number of training examples =\", n_train)\n",
    "print(\"Number of testing examples =\", n_test)\n",
    "print(\"Image data shape =\", image_shape)\n",
    "print(\"Number of classes =\", n_classes)"
   ]
  },
  {
   "cell_type": "code",
   "execution_count": null,
   "metadata": {
    "collapsed": false
   },
   "outputs": [],
   "source": [
    "### Data exploration visualization goes here.\n",
    "### Feel free to use as many code cells as needed.\n",
    "\n",
    "import matplotlib.pyplot as plt\n",
    "import matplotlib.image as mpimg\n",
    "import cv2\n",
    "#from PIL import Image\n",
    "\n",
    "%matplotlib inline\n",
    "\n",
    "# grab an image\n",
    "image_num = 20000\n",
    "image = X_train[image_num,:,:,:]\n",
    "\n",
    "# Show image\n",
    "print('This image is:', type(image), 'with dimesions:', image.shape)\n",
    "print('Showing image #', image_num, '...')\n",
    "plt.imshow(image)  #call as plt.imshow(gray, cmap='gray') to show a grayscaled image"
   ]
  },
  {
   "cell_type": "markdown",
   "metadata": {},
   "source": [
    "----\n",
    "\n",
    "## Step 2: Design and Test a Model Architecture\n",
    "\n",
    "Design and implement a deep learning model that learns to recognize traffic signs. Train and test your model on the [German Traffic Sign Dataset](http://benchmark.ini.rub.de/?section=gtsrb&subsection=dataset).\n",
    "\n",
    "There are various aspects to consider when thinking about this problem:\n",
    "\n",
    "- Your model can be derived from a deep feedforward net or a deep convolutional network.\n",
    "- Play around preprocessing techniques (normalization, rgb to grayscale, etc)\n",
    "- Number of examples per label (some have more than others).\n",
    "- Generate fake data.\n",
    "\n",
    "Here is an example of a [published baseline model on this problem](http://yann.lecun.com/exdb/publis/pdf/sermanet-ijcnn-11.pdf). It's not required to be familiar with the approach used in the paper but, it's good practice to try to read papers like these."
   ]
  },
  {
   "cell_type": "markdown",
   "metadata": {},
   "source": [
    "### Implementation\n",
    "\n",
    "Use the code cell (or multiple code cells, if necessary) to implement the first step of your project. Once you have completed your implementation and are satisfied with the results, be sure to thoroughly answer the questions that follow."
   ]
  },
  {
   "cell_type": "code",
   "execution_count": null,
   "metadata": {
    "collapsed": true
   },
   "outputs": [],
   "source": [
    "### Preprocess the data here.\n",
    "### Feel free to use as many code cells as needed."
   ]
  },
  {
   "cell_type": "code",
   "execution_count": null,
   "metadata": {
    "collapsed": false
   },
   "outputs": [],
   "source": [
    "# Grayscale the images\n",
    "import numpy as np\n",
    "\n",
    "def grayscale(img):\n",
    "    \"\"\"Applies the Grayscale transform\n",
    "    This will return an image with only one color channel\n",
    "    but NOTE: to see the returned image as grayscale\n",
    "    you should call plt.imshow(gray, cmap='gray')\"\"\"\n",
    "    return cv2.cvtColor(img, cv2.COLOR_BGR2GRAY)\n",
    "\n",
    "def grayscale_features(dataset_, num_samples_, image_shape_):\n",
    "    gray = np.empty([num_samples_, image_shape_[0], image_shape_[1]], dtype=dataset_.dtype)\n",
    "    for index in range(0, num_samples_):\n",
    "        gray[index,:,:] = grayscale(dataset_[index,:,:,:])\n",
    "    \n",
    "    return gray\n",
    "\n",
    "'''\n",
    "X_train_gray = grayscale_features(X_train, n_train, image_shape)\n",
    "\n",
    "gray_plot = X_train_gray[image_num,:,:] \n",
    "plt.imshow(gray_plot, cmap='gray')\n",
    "'''"
   ]
  },
  {
   "cell_type": "code",
   "execution_count": null,
   "metadata": {
    "collapsed": false
   },
   "outputs": [],
   "source": [
    "# Data Flattening\n",
    "\n",
    "def flatten_features(gray_, num_samples_, image_shape_):\n",
    "    flat = np.empty([num_samples_, image_shape_[0]*image_shape_[1]], dtype=gray_.dtype)\n",
    "    for index in range(0, num_samples_):\n",
    "        flat[index,:] = gray_[index,:,:].flatten()\n",
    "        \n",
    "    return flat    \n",
    "\n",
    "''' \n",
    "X_train_flat = flatten_features(X_train_gray, n_train, image_shape)  \n",
    "    \n",
    "print('The shape of X_train_flat is ({},{})'.format(X_train_flat.shape[0], X_train_flat.shape[1]))\n",
    "'''"
   ]
  },
  {
   "cell_type": "code",
   "execution_count": null,
   "metadata": {
    "collapsed": false
   },
   "outputs": [],
   "source": [
    "# Data Normalization\n",
    "\n",
    "def normalize_features(flat_):\n",
    "    #change type to np.float32 to accomodate negative numbers\n",
    "    #  and get ready for further math\n",
    "    normalized = (flat_.astype(np.float32) - 128)/128\n",
    "    \n",
    "    return normalized\n",
    "\n",
    "'''\n",
    "X_train_norm = normalize_features(X_train_flat)\n",
    "\n",
    "print(X_train_flat[1,1:6])\n",
    "print(X_train_norm[1,1:6])\n",
    "'''"
   ]
  },
  {
   "cell_type": "code",
   "execution_count": null,
   "metadata": {
    "collapsed": false
   },
   "outputs": [],
   "source": [
    "# One Hot Encode the labels\n",
    "\n",
    "from sklearn.preprocessing import LabelBinarizer\n",
    "\n",
    "# Turn labels into numbers and apply One-Hot Encoding\n",
    "# i.e. each solution is turned into a unit row vector\n",
    "def oneHotEncode_labels(labels_):\n",
    "    encoder = LabelBinarizer()\n",
    "    one_hot_encoded = encoder.fit_transform(labels_)\n",
    "\n",
    "    return one_hot_encoded\n",
    "\n",
    "'''\n",
    "y_train_OHE = oneHotEncode_labels(y_train)\n",
    "\n",
    "print('The shape of y_train_OHE is ({},{})'.format(y_train_OHE.shape[0], y_train_OHE.shape[1]))\n",
    "'''"
   ]
  },
  {
   "cell_type": "code",
   "execution_count": null,
   "metadata": {
    "collapsed": false
   },
   "outputs": [],
   "source": [
    "# split into train and validation sets\n",
    "from sklearn.model_selection import train_test_split\n",
    "from random import randint\n",
    "\n",
    "def split_training(x_train_, y_train_):\n",
    "    (train_features, valid_features, train_labels, valid_labels) = \\\n",
    "      train_test_split(x_train_, y_train_, test_size=0.05, random_state=832289)\n",
    "        \n",
    "    return (train_features, valid_features, train_labels, valid_labels)\n",
    "\n",
    "def split_training_rand(x_train_, y_train_):\n",
    "    rand_min = 0\n",
    "    rand_max = 832289\n",
    "    \n",
    "    (train_features, valid_features, train_labels, valid_labels) = \\\n",
    "      train_test_split(x_train_, y_train_, test_size=0.05, random_state=randint(rand_min,rand_max))\n",
    "        \n",
    "    return (train_features, valid_features, train_labels, valid_labels)\n",
    "\n",
    "'''\n",
    "(train_features, valid_features, train_labels, valid_labels) = \\\n",
    "  split_training(X_train_norm, y_train_OHE)\n",
    "\n",
    "print('The shape of train_features is '+ str(train_features.shape))\n",
    "print('The shape of valid_features is '+ str(valid_features.shape))\n",
    "print('The shape of train_labels is '+ str(train_labels.shape))\n",
    "print('The shape of valid_labels is '+ str(valid_labels.shape))\n",
    "'''"
   ]
  },
  {
   "cell_type": "code",
   "execution_count": null,
   "metadata": {
    "collapsed": false
   },
   "outputs": [],
   "source": [
    "# Multilayer (2) Perception\n",
    "# i.e. 2 Layer Neural Net with Relu in-between\n",
    "# Based on https://d17h27t6h515a5.cloudfront.net/topher/2016/October/\n",
    "#                  580ffdd8_multilayer-perceptron/multilayer-perceptron.zip\n",
    "\n",
    "import tensorflow as tf\n",
    "\n",
    "\n",
    "### Preprocess Data ########################################\n",
    "# Training and Validation\n",
    "X_train_gray = grayscale_features(X_train, n_train, image_shape)\n",
    "X_train_norm = normalize_features(X_train_gray)\n",
    "y_train_OHE = oneHotEncode_labels(y_train)\n",
    "(train_features, valid_features, train_labels, valid_labels) = \\\n",
    "  split_training(X_train_norm, y_train_OHE)\n",
    "\n",
    "print('The shape of train_features is '+ str(train_features.shape))\n",
    "print('The shape of train_labels   is '+ str(train_labels.shape))\n",
    "print('The shape of valid_features is '+ str(valid_features.shape))\n",
    "print('The shape of valid_labels   is '+ str(valid_labels.shape)) \n",
    " \n",
    "X_test_gray = grayscale_features(X_test, n_test, image_shape)\n",
    "X_test_norm = normalize_features(X_test_gray)\n",
    "y_test_OHE = oneHotEncode_labels(y_test)\n",
    "test_features = X_test_norm\n",
    "test_labels = y_test_OHE\n",
    "\n",
    "print('The shape of test_features  is '+ str(test_features.shape))\n",
    "print('The shape of test_labels    is '+ str(test_labels.shape))\n",
    "\n",
    "\n",
    "### Learning Parameters ####################################\n",
    "# Parameters\n",
    "learning_rate = 0.01\n",
    "training_epochs = 35\n",
    "batch_size = 100\n",
    "display_step = 1\n",
    "\n",
    "n_input = image_shape[0]*image_shape[1]  # data input (img shape: 32*32)\n",
    "n_classes = n_classes  # total classes (0-42 digits = 43)\n",
    "\n",
    "\n",
    "### Hidden Layer Parameters ################################\n",
    "n_hidden_layer = 500 # layer number of features\n",
    "\n",
    "\n",
    "### Weights and Biases #####################################\n",
    "# Store layers weight & bias\n",
    "weights = {\n",
    "    'hidden_layer': tf.Variable(tf.random_normal([n_input, n_hidden_layer])),\n",
    "    'out': tf.Variable(tf.random_normal([n_hidden_layer, n_classes]))\n",
    "}\n",
    "biases = {\n",
    "    'hidden_layer': tf.Variable(tf.random_normal([n_hidden_layer])),\n",
    "    'out': tf.Variable(tf.random_normal([n_classes]))\n",
    "}\n",
    "\n",
    "\n",
    "### Input ##################################################\n",
    "# tf Graph input\n",
    "x = tf.placeholder(\"float\", [None, image_shape[0], image_shape[1]])\n",
    "y = tf.placeholder(\"float\", [None, n_classes])\n",
    "\n",
    "x_flat = tf.reshape(x, [-1, n_input])\n",
    "\n",
    "\n",
    "\n",
    "### Multilayer Perceptron ################################## \n",
    "# Hidden layer with RELU activation\n",
    "layer_1 = tf.add(tf.matmul(x_flat, weights['hidden_layer']), biases['hidden_layer'])\n",
    "layer_1 = tf.nn.relu(layer_1)\n",
    "# Output layer with linear activation\n",
    "logits = tf.matmul(layer_1, weights['out']) + biases['out']\n",
    "\n",
    "\n",
    "# Optimizer ################################################\n",
    "# Define loss and optimizer\n",
    "cost = tf.reduce_mean(tf.nn.softmax_cross_entropy_with_logits(logits, y))\n",
    "optimizer = tf.train.GradientDescentOptimizer(learning_rate=learning_rate).minimize(cost)\n",
    "\n",
    "\n",
    "### Session ################################################\n",
    "# Initializing the variables\n",
    "init = tf.initialize_all_variables()\n",
    "\n",
    "# Launch the graph\n",
    "with tf.Session() as sess:\n",
    "    sess.run(init)\n",
    "    # Training cycle\n",
    "    for epoch in range(training_epochs):        \n",
    "        \n",
    "        total_batch = int(train_features.shape[0]/batch_size)\n",
    "        \n",
    "        # Loop over all batches\n",
    "        for batch_i in range(total_batch):\n",
    "            #batch_x, batch_y = mnist.train.next_batch(batch_size)\n",
    "            batch_start = batch_i*batch_size\n",
    "            batch_x = train_features[batch_start:batch_start + batch_size]\n",
    "            batch_y = train_labels[batch_start:batch_start + batch_size]\n",
    "            \n",
    "            # Run optimization op (backprop) and cost op (to get loss value)\n",
    "            sess.run(optimizer, feed_dict={x: batch_x, y: batch_y})\n",
    "            \n",
    "        # Display logs per epoch step\n",
    "        if epoch % display_step == 0:\n",
    "            # run validation set\n",
    "            c = sess.run(cost, feed_dict={x: valid_features, y: valid_labels})\n",
    "            print(\"Epoch:\", '%04d' % (epoch+1), \"cost=\", \\\n",
    "                \"{:.9f}\".format(c))\n",
    "    print(\"Optimization Finished!\")\n",
    "\n",
    "    # Test model\n",
    "    correct_prediction = tf.equal(tf.argmax(logits, 1), tf.argmax(y, 1))\n",
    "    # Calculate accuracy - run test set\n",
    "    accuracy = tf.reduce_mean(tf.cast(correct_prediction, \"float\"))\n",
    "    print(\"Accuracy:\", accuracy.eval({x: test_features, y: test_labels}))\n",
    "\n",
    "\n",
    "### Results ########################################################\n",
    "# Best accuracy = 0.668884\n"
   ]
  },
  {
   "cell_type": "code",
   "execution_count": null,
   "metadata": {
    "collapsed": false
   },
   "outputs": [],
   "source": [
    "# Multilayer (3) Perception\n",
    "# 3 Layer Neural Net, Relu in-between\n",
    "# Based on https://github.com/aymericdamien/TensorFlow-Examples - multilayer_perceptron\n",
    "\n",
    "import tensorflow as tf\n",
    "import matplotlib.pyplot as plt\n",
    "\n",
    "\n",
    "# Training and Validation\n",
    "X_train_gray = grayscale_features(X_train, n_train, image_shape)\n",
    "X_train_norm = normalize_features(X_train_gray)\n",
    "y_train_OHE = oneHotEncode_labels(y_train)\n",
    "(train_features, valid_features, train_labels, valid_labels) = \\\n",
    "  split_training(X_train_norm, y_train_OHE)\n",
    "    \n",
    "X_test_gray = grayscale_features(X_test, n_test, image_shape)\n",
    "X_test_norm = normalize_features(X_test_gray)\n",
    "y_test_OHE = oneHotEncode_labels(y_test)\n",
    "test_features = X_test_norm\n",
    "test_labels = y_test_OHE\n",
    "\n",
    "# plotting\n",
    "cost_batch = []\n",
    "\n",
    "# Parameters\n",
    "learning_rate = 0.001\n",
    "training_epochs = 500\n",
    "batch_size = 100\n",
    "display_step = 1\n",
    "\n",
    "# Network Parameters\n",
    "n_hidden_1 = 256                            # 1st layer number of features\n",
    "n_hidden_2 = 256                            # 2nd layer number of features\n",
    "n_input    = image_shape[0]*image_shape[1]  # data input (img shape: 32*32)\n",
    "n_classes  = n_classes                      # total classes (0-42 digits = 43)\n",
    "\n",
    "# tf Graph input\n",
    "x = tf.placeholder(\"float\", [None, image_shape[0], image_shape[1]])\n",
    "y = tf.placeholder(\"float\", [None, n_classes])\n",
    "\n",
    "x_flat = tf.reshape(x, [-1, n_input])\n",
    "\n",
    "# Create model\n",
    "def multilayer_perceptron(x, weights, biases):\n",
    "    # Hidden layer with RELU activation\n",
    "    layer_1 = tf.add(tf.matmul(x, weights['h1']), biases['b1'])             #WX+b\n",
    "    layer_1 = tf.nn.relu(layer_1)\n",
    "    # Hidden layer with RELU activation\n",
    "    layer_2 = tf.add(tf.matmul(layer_1, weights['h2']), biases['b2'])       #WX+b\n",
    "    layer_2 = tf.nn.relu(layer_2)\n",
    "    # Output layer with linear activation\n",
    "    out_layer = tf.add(tf.matmul(layer_2, weights['out']), biases['out'])   #WX+b\n",
    "    return out_layer\n",
    "\n",
    "def multilayer_perceptron_dropout(x, weights, biases):\n",
    "    # Hidden layer with RELU activation\n",
    "    layer_1 = tf.add(tf.matmul(x, weights['h1']), biases['b1'])             #WX+b\n",
    "    layer_1 = tf.nn.relu(layer_1)\n",
    "    layer_1 = tf.nn.dropout(layer_1, keep_prob)\n",
    "    # Hidden layer with RELU activation\n",
    "    layer_2 = tf.add(tf.matmul(layer_1, weights['h2']), biases['b2'])       #WX+b\n",
    "    layer_2 = tf.nn.relu(layer_2)\n",
    "    layer_2 = tf.nn.dropout(layer_2, keep_prob)\n",
    "    # Output layer with linear activation\n",
    "    out_layer = tf.add(tf.matmul(layer_2, weights['out']), biases['out'])   #WX+b\n",
    "    return out_layer\n",
    "\n",
    "# Store layers weight & bias\n",
    "weights = {\n",
    "    'h1': tf.Variable(tf.random_normal([n_input, n_hidden_1])),\n",
    "    'h2': tf.Variable(tf.random_normal([n_hidden_1, n_hidden_2])),\n",
    "    'out': tf.Variable(tf.random_normal([n_hidden_2, n_classes]))\n",
    "}\n",
    "biases = {\n",
    "    'b1': tf.Variable(tf.random_normal([n_hidden_1])),\n",
    "    'b2': tf.Variable(tf.random_normal([n_hidden_2])),\n",
    "    'out': tf.Variable(tf.random_normal([n_classes]))\n",
    "}\n",
    "\n",
    "# Construct model\n",
    "pred = multilayer_perceptron(x_flat, weights, biases)\n",
    "\n",
    "# Define loss and optimizer\n",
    "cost = tf.reduce_mean(tf.nn.softmax_cross_entropy_with_logits(pred, y))\n",
    "optimizer = tf.train.AdamOptimizer(learning_rate=learning_rate).minimize(cost)\n",
    "\n",
    "# Initializing the variables\n",
    "init = tf.initialize_all_variables()\n",
    "\n",
    "\n",
    "# Launch the graph\n",
    "with tf.Session() as sess:\n",
    "    sess.run(init)\n",
    "\n",
    "    # Training cycle\n",
    "    for epoch in range(training_epochs):\n",
    "\n",
    "        total_batch = int(train_features.shape[0]/batch_size)\n",
    "        \n",
    "        # Loop over all batches            \n",
    "        for batch_i in range(total_batch):\n",
    "            #batch_x, batch_y = mnist.train.next_batch(batch_size)\n",
    "            batch_start = batch_i*batch_size\n",
    "            batch_x = train_features[batch_start:batch_start + batch_size]\n",
    "            batch_y = train_labels[batch_start:batch_start + batch_size]\n",
    "            \n",
    "            # Run optimization op (backprop) and cost op (to get loss value)\n",
    "            sess.run(optimizer, feed_dict={x: batch_x, y: batch_y})\n",
    "            \n",
    "        # Display logs per epoch step\n",
    "        if epoch % display_step == 0:\n",
    "            # run validation set\n",
    "            c = sess.run(cost, feed_dict={x: valid_features, y: valid_labels})\n",
    "            print(\"Epoch:\", '%04d' % (epoch+1), \"cost=\", \\\n",
    "                \"{:.9f}\".format(c)) \n",
    "            cost_batch.append(c)\n",
    "    print(\"Optimization Finished!\")\n",
    "\n",
    "    \n",
    "    \n",
    "    # Test model\n",
    "    correct_prediction = tf.equal(tf.argmax(pred, 1), tf.argmax(y, 1))\n",
    "    # Calculate accuracy - run test set\n",
    "    accuracy = tf.reduce_mean(tf.cast(correct_prediction, \"float\"))\n",
    "    print(\"Accuracy:\", accuracy.eval({x: test_features, y: test_labels}))\n",
    "    \n",
    "    # plot\n",
    "    plt.plot(cost_batch)\n",
    "    plt.ylabel('cost')\n",
    "    #plt.ylim(0,7)\n",
    "    plt.xlabel('epoch')\n",
    "    plt.show()\n",
    "\n",
    "### Results ########################################################\n",
    "# Best accuracy = 0.786777\n",
    "# with learning_rate = 0.001 & training_epochs = 500"
   ]
  },
  {
   "cell_type": "code",
   "execution_count": null,
   "metadata": {
    "collapsed": false
   },
   "outputs": [],
   "source": [
    "# ConvNet\n",
    "# Convolutional Neural Network\n",
    "# Based on https://github.com/aymericdamien/TensorFlow-Examples - convolutional_network\n",
    "# and \"Traffice Sign Recognition with Multi-Scale Convolutional Networks\" by Sermanet & LeCun\n",
    "\n",
    "import tensorflow as tf\n",
    "import matplotlib.pyplot as plt\n",
    "\n",
    "\n",
    "# Training and Validation\n",
    "X_train_gray = grayscale_features(X_train, n_train, image_shape)\n",
    "X_train_norm = normalize_features(X_train_gray)\n",
    "y_train_OHE = oneHotEncode_labels(y_train)\n",
    "(train_features, valid_features, train_labels, valid_labels) = \\\n",
    "  split_training(X_train_norm, y_train_OHE)\n",
    "    \n",
    "X_test_gray = grayscale_features(X_test, n_test, image_shape)\n",
    "X_test_norm = normalize_features(X_test_gray)\n",
    "y_test_OHE = oneHotEncode_labels(y_test)\n",
    "test_features = X_test_norm\n",
    "test_labels = y_test_OHE\n",
    "\n",
    "\n",
    "# plotting\n",
    "cost_batch = []\n",
    "\n",
    "\n",
    "# Parameters\n",
    "learning_rate = 0.001\n",
    "training_epochs = 10 #50\n",
    "batch_size = 100\n",
    "display_step = 1\n",
    "\n",
    "n_hidden_layer = 256   # layer number of features\n",
    "\n",
    "# Network Parameters\n",
    "n_input = image_shape[0]*image_shape[1]  # data input (img shape: 32*32)\n",
    "n_classes = n_classes  # total classes (0-42 digits = 43)\n",
    "dropout = 0.75 # Dropout, probability to keep units\n",
    "\n",
    "\n",
    "# Sizing parameters\n",
    "pool_sizeNstride   = 2               #pooling size & stride\n",
    "\n",
    "input_channels     = 1               #grayscale\n",
    "input_size         = image_shape[0]  #size of 1 side of input square\n",
    "\n",
    "wc1_convoSize      = 5               #size of 1 side of convo sq  \n",
    "wc1_outDepth       = 32              #convo output depth\n",
    "wc1_outSize        = int(input_size/pool_sizeNstride)  #size of 1 size of output sq\n",
    "\n",
    "wc2_convoSize      = 5\n",
    "wc2_outDepth       = 64\n",
    "wc2_outSize        = int(wc1_outSize/pool_sizeNstride)\n",
    "\n",
    "wc1_total          = wc1_outSize*wc1_outSize*wc1_outDepth\n",
    "wc2_total          = wc2_outSize*wc2_outSize*wc2_outDepth\n",
    "multiscale_len     = wc1_total + wc2_total      #mutli-scale feature results\n",
    "\n",
    "\n",
    "# tf Graph input\n",
    "x = tf.placeholder(tf.float32, [None, image_shape[0], image_shape[1]])\n",
    "y = tf.placeholder(tf.float32, [None, n_classes])\n",
    "keep_prob = tf.placeholder(tf.float32) #dropout (keep probability)\n",
    "\n",
    "\n",
    "# Create some wrappers for simplicity\n",
    "def conv2d(x, W, b, strides=1):\n",
    "    # Conv2D wrapper, with bias and relu activation\n",
    "    x = tf.nn.conv2d(x, W, strides=[1, strides, strides, 1], padding='SAME')\n",
    "    # x/input shape  = [batch, in_height, in_width, in_channels]\n",
    "    # w/filter shape = [filter_height, filter_width, in_channels, out_channels]\n",
    "    # stride shape   = [batch, in_height, in_width, in_channels]\n",
    "    \n",
    "    x = tf.nn.bias_add(x, b)\n",
    "    return tf.nn.relu(x)\n",
    "\n",
    "\n",
    "def maxpool2d(x, k=2):\n",
    "    # MaxPool2D wrapper\n",
    "    return tf.nn.max_pool(x, ksize=[1, k, k, 1], strides=[1, k, k, 1],\n",
    "                          padding='SAME')\n",
    "\n",
    "    # x shape = shape [batch, height, width, channels]\n",
    "    # ksize   = window in each dimension\n",
    "    # strides = stride in each dimension\n",
    "\n",
    "    \n",
    "# Create model\n",
    "def conv_net(x, weights, biases, dropout):\n",
    "    # Reshape input picture\n",
    "    x = tf.reshape(x, shape=[-1, image_shape[0], image_shape[1], 1])\n",
    "\n",
    "    # Convolution Layer\n",
    "    conv1 = conv2d(x, weights['wc1'], biases['bc1'])\n",
    "    # Max Pooling (down-sampling)\n",
    "    conv1 = maxpool2d(conv1, k=pool_sizeNstride)\n",
    "    \n",
    "    # Convolution Layer\n",
    "    conv2 = conv2d(conv1, weights['wc2'], biases['bc2'])\n",
    "    # Max Pooling (down-sampling)\n",
    "    conv2 = maxpool2d(conv2, k=pool_sizeNstride)\n",
    "    \n",
    "    # Input to classifier\n",
    "    flat1 = tf.reshape(conv1, [-1, wc1_total])  #row size should be batch size\n",
    "    flat2 = tf.reshape(conv2, [-1, wc2_total])  #row size should be batch size\n",
    "    classifier_input = tf.concat(1, [flat1, flat2])  #should concat the rows\n",
    "\n",
    "    # Fully connected layer\n",
    "    hl1 = tf.add(tf.matmul(classifier_input, weights['hl1']), biases['hl1'])\n",
    "    hl1 = tf.nn.relu(hl1)\n",
    "    # Apply Dropout\n",
    "    #fc1 = tf.nn.dropout(fc1, dropout)    \n",
    "    \n",
    "    # Output, 'classifier'\n",
    "    out = tf.add(tf.matmul(hl1, weights['out']), biases['out'])\n",
    "    return out\n",
    "\n",
    "\n",
    "\n",
    "# Store layers weight & bias\n",
    "\n",
    "#w/filter shape = [filter_height, filter_width, in_channels, out_channels]\n",
    "weights = {\n",
    "    'wc1': tf.Variable(tf.random_normal([wc1_convoSize, wc1_convoSize, input_channels, wc1_outDepth])),\n",
    "    'wc2': tf.Variable(tf.random_normal([wc2_convoSize, wc2_convoSize, wc1_outDepth, wc2_outDepth])),\n",
    "    'hl1': tf.Variable(tf.random_normal([multiscale_len, n_hidden_layer])),\n",
    "    'out': tf.Variable(tf.random_normal([n_hidden_layer, n_classes]))\n",
    "}\n",
    "\n",
    "biases = {\n",
    "    'bc1': tf.Variable(tf.random_normal([wc1_outDepth])),\n",
    "    'bc2': tf.Variable(tf.random_normal([wc2_outDepth])),\n",
    "    'hl1': tf.Variable(tf.random_normal([n_hidden_layer])),\n",
    "    'out': tf.Variable(tf.random_normal([n_classes]))\n",
    "}\n",
    "\n",
    "\n",
    "# Construct model\n",
    "pred = conv_net(x, weights, biases, keep_prob)\n",
    "\n",
    "# Define loss and optimizer\n",
    "cost = tf.reduce_mean(tf.nn.softmax_cross_entropy_with_logits(pred, y))\n",
    "optimizer = tf.train.AdamOptimizer(learning_rate=learning_rate).minimize(cost)\n",
    "\n",
    "# Evaluate model\n",
    "correct_pred = tf.equal(tf.argmax(pred, 1), tf.argmax(y, 1))\n",
    "accuracy = tf.reduce_mean(tf.cast(correct_pred, tf.float32))\n",
    "\n",
    "\n",
    "# Initializing the variables\n",
    "init = tf.initialize_all_variables()\n",
    "\n",
    "# Launch the graph\n",
    "with tf.Session() as sess:\n",
    "    sess.run(init)\n",
    "\n",
    "    # Training cycle\n",
    "    for epoch in range(training_epochs):\n",
    "\n",
    "        total_batch = int(train_features.shape[0]/batch_size)\n",
    "        \n",
    "        # Loop over all batches            \n",
    "        for batch_i in range(total_batch):\n",
    "            #batch_x, batch_y = mnist.train.next_batch(batch_size)\n",
    "            batch_start = batch_i*batch_size\n",
    "            batch_x = train_features[batch_start:batch_start + batch_size]\n",
    "            batch_y = train_labels[batch_start:batch_start + batch_size]\n",
    "            \n",
    "            # Run optimization op (backprop) and cost op (to get loss value)\n",
    "            sess.run(optimizer, feed_dict={x: batch_x, y: batch_y, keep_prob: dropout})         \n",
    "        \n",
    "        # Display logs per epoch step\n",
    "        if epoch % display_step == 0:\n",
    "            # run validation set\n",
    "            c = sess.run(cost, feed_dict={x: valid_features, y: valid_labels, keep_prob: 1.})\n",
    "            print(\"Epoch:\", '%04d' % (epoch+1), \"cost=\", \\\n",
    "                \"{:.9f}\".format(c)) \n",
    "            cost_batch.append(c)\n",
    "          \n",
    "    print(\"Optimization Finished!\")\n",
    "\n",
    "    \n",
    "    # Test model\n",
    "    correct_prediction = tf.equal(tf.argmax(pred, 1), tf.argmax(y, 1))\n",
    "    # Calculate accuracy - run test set\n",
    "    accuracy = tf.reduce_mean(tf.cast(correct_prediction, \"float\"))\n",
    "    print(\"Accuracy:\", accuracy.eval({x: test_features, y: test_labels, keep_prob: 1.}))\n",
    "    \n",
    "    # plot\n",
    "    plt.plot(cost_batch)\n",
    "    plt.ylabel('cost')\n",
    "    plt.xlabel('epoch')\n",
    "    plt.show()\n",
    "\n",
    "    \n",
    "### Results ########################################################\n",
    "# Best accuracy = 0.812272\n",
    "# with learning_rate = 0.001 & training_epochs = 50    "
   ]
  },
  {
   "cell_type": "code",
   "execution_count": null,
   "metadata": {
    "collapsed": false
   },
   "outputs": [],
   "source": [
    "#Testing reshape and concat\n",
    "import tensorflow as tf\n",
    "\n",
    "x = tf.Variable([ [[11, 12],[13, 14]], [[21, 22],[23, 24]], [[31, 32],[33, 34]] ])\n",
    "\n",
    "u = tf.Variable([])\n",
    "\n",
    "# Initializing the variables\n",
    "init = tf.initialize_all_variables()\n",
    "\n",
    "with tf.Session() as sess:\n",
    "    sess.run(init)\n",
    "    x = tf.reshape(x, [-1,2*2])\n",
    "    \n",
    "    \n",
    "    y = tf.add(x, 30)\n",
    "    z = tf.concat(1, [x, y])\n",
    "    output_z = sess.run(z)\n",
    "    print(output_z)\n",
    "    print(output_z.shape)\n",
    "    '''\n",
    "    output_x = sess.run(x)\n",
    "    print(output_x)\n",
    "    print(output_x.shape)\n",
    "    '''"
   ]
  },
  {
   "cell_type": "markdown",
   "metadata": {},
   "source": [
    "### Question 1 \n",
    "\n",
    "_Describe the techniques used to preprocess the data._"
   ]
  },
  {
   "cell_type": "markdown",
   "metadata": {},
   "source": [
    "**Answer:**"
   ]
  },
  {
   "cell_type": "code",
   "execution_count": null,
   "metadata": {
    "collapsed": true
   },
   "outputs": [],
   "source": [
    "### Generate data additional (if you want to!)\n",
    "### and split the data into training/validation/testing sets here.\n",
    "### Feel free to use as many code cells as needed."
   ]
  },
  {
   "cell_type": "markdown",
   "metadata": {},
   "source": [
    "### Question 2\n",
    "\n",
    "_Describe how you set up the training, validation and testing data for your model. If you generated additional data, why?_"
   ]
  },
  {
   "cell_type": "markdown",
   "metadata": {},
   "source": [
    "**Answer:**"
   ]
  },
  {
   "cell_type": "code",
   "execution_count": null,
   "metadata": {
    "collapsed": true
   },
   "outputs": [],
   "source": [
    "### Define your architecture here.\n",
    "### Feel free to use as many code cells as needed."
   ]
  },
  {
   "cell_type": "markdown",
   "metadata": {},
   "source": [
    "### Question 3\n",
    "\n",
    "_What does your final architecture look like? (Type of model, layers, sizes, connectivity, etc.)  For reference on how to build a deep neural network using TensorFlow, see [Deep Neural Network in TensorFlow\n",
    "](https://classroom.udacity.com/nanodegrees/nd013/parts/fbf77062-5703-404e-b60c-95b78b2f3f9e/modules/6df7ae49-c61c-4bb2-a23e-6527e69209ec/lessons/b516a270-8600-4f93-a0a3-20dfeabe5da6/concepts/83a3a2a2-a9bd-4b7b-95b0-eb924ab14432) from the classroom._\n"
   ]
  },
  {
   "cell_type": "markdown",
   "metadata": {},
   "source": [
    "**Answer:**"
   ]
  },
  {
   "cell_type": "code",
   "execution_count": null,
   "metadata": {
    "collapsed": true
   },
   "outputs": [],
   "source": [
    "### Train your model here.\n",
    "### Feel free to use as many code cells as needed."
   ]
  },
  {
   "cell_type": "markdown",
   "metadata": {},
   "source": [
    "### Question 4\n",
    "\n",
    "_How did you train your model? (Type of optimizer, batch size, epochs, hyperparameters, etc.)_\n"
   ]
  },
  {
   "cell_type": "markdown",
   "metadata": {},
   "source": [
    "**Answer:**"
   ]
  },
  {
   "cell_type": "markdown",
   "metadata": {},
   "source": [
    "### Question 5\n",
    "\n",
    "\n",
    "_What approach did you take in coming up with a solution to this problem?_"
   ]
  },
  {
   "cell_type": "markdown",
   "metadata": {},
   "source": [
    "**Answer:**"
   ]
  },
  {
   "cell_type": "markdown",
   "metadata": {},
   "source": [
    "---\n",
    "\n",
    "## Step 3: Test a Model on New Images\n",
    "\n",
    "Take several pictures of traffic signs that you find on the web or around you (at least five), and run them through your classifier on your computer to produce example results. The classifier might not recognize some local signs but it could prove interesting nonetheless.\n",
    "\n",
    "You may find `signnames.csv` useful as it contains mappings from the class id (integer) to the actual sign name."
   ]
  },
  {
   "cell_type": "markdown",
   "metadata": {},
   "source": [
    "### Implementation\n",
    "\n",
    "Use the code cell (or multiple code cells, if necessary) to implement the first step of your project. Once you have completed your implementation and are satisfied with the results, be sure to thoroughly answer the questions that follow."
   ]
  },
  {
   "cell_type": "code",
   "execution_count": null,
   "metadata": {
    "collapsed": true
   },
   "outputs": [],
   "source": [
    "### Load the images and plot them here.\n",
    "### Feel free to use as many code cells as needed."
   ]
  },
  {
   "cell_type": "markdown",
   "metadata": {},
   "source": [
    "### Question 6\n",
    "\n",
    "_Choose five candidate images of traffic signs and provide them in the report. Are there any particular qualities of the image(s) that might make classification difficult? It would be helpful to plot the images in the notebook._\n",
    "\n"
   ]
  },
  {
   "cell_type": "markdown",
   "metadata": {},
   "source": [
    "**Answer:**"
   ]
  },
  {
   "cell_type": "code",
   "execution_count": null,
   "metadata": {
    "collapsed": true
   },
   "outputs": [],
   "source": [
    "### Run the predictions here.\n",
    "### Feel free to use as many code cells as needed."
   ]
  },
  {
   "cell_type": "markdown",
   "metadata": {},
   "source": [
    "### Question 7\n",
    "\n",
    "_Is your model able to perform equally well on captured pictures or a live camera stream when compared to testing on the dataset?_\n"
   ]
  },
  {
   "cell_type": "markdown",
   "metadata": {},
   "source": [
    "**Answer:**"
   ]
  },
  {
   "cell_type": "code",
   "execution_count": null,
   "metadata": {
    "collapsed": true
   },
   "outputs": [],
   "source": [
    "### Visualize the softmax probabilities here.\n",
    "### Feel free to use as many code cells as needed."
   ]
  },
  {
   "cell_type": "markdown",
   "metadata": {},
   "source": [
    "### Question 8\n",
    "\n",
    "*Use the model's softmax probabilities to visualize the **certainty** of its predictions, [`tf.nn.top_k`](https://www.tensorflow.org/versions/r0.11/api_docs/python/nn.html#top_k) could prove helpful here. Which predictions is the model certain of? Uncertain? If the model was incorrect in its initial prediction, does the correct prediction appear in the top k? (k should be 5 at most)*\n"
   ]
  },
  {
   "cell_type": "markdown",
   "metadata": {},
   "source": [
    "**Answer:**"
   ]
  },
  {
   "cell_type": "markdown",
   "metadata": {},
   "source": [
    "### Question 9\n",
    "_If necessary, provide documentation for how an interface was built for your model to load and classify newly-acquired images._\n"
   ]
  },
  {
   "cell_type": "markdown",
   "metadata": {},
   "source": [
    "**Answer:**"
   ]
  },
  {
   "cell_type": "markdown",
   "metadata": {},
   "source": [
    "> **Note**: Once you have completed all of the code implementations and successfully answered each question above, you may finalize your work by exporting the iPython Notebook as an HTML document. You can do this by using the menu above and navigating to  \\n\",\n",
    "    \"**File -> Download as -> HTML (.html)**. Include the finished document along with this notebook as your submission."
   ]
  },
  {
   "cell_type": "code",
   "execution_count": null,
   "metadata": {
    "collapsed": true
   },
   "outputs": [],
   "source": []
  }
 ],
 "metadata": {
  "anaconda-cloud": {},
  "kernelspec": {
   "display_name": "Python 3",
   "language": "python",
   "name": "python3"
  },
  "language_info": {
   "codemirror_mode": {
    "name": "ipython",
    "version": 3
   },
   "file_extension": ".py",
   "mimetype": "text/x-python",
   "name": "python",
   "nbconvert_exporter": "python",
   "pygments_lexer": "ipython3",
   "version": "3.5.2"
  }
 },
 "nbformat": 4,
 "nbformat_minor": 1
}
